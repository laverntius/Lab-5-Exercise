{
 "cells": [
  {
   "cell_type": "code",
   "execution_count": null,
   "id": "played-kitchen",
   "metadata": {},
   "outputs": [],
   "source": [
    "charname = str(input(\"Hello adventurer! What name would you like to be called by in the legends that shall be written about your journeys? \"))\n",
    "print (\"Well hello there \",charname, \"we are glad to be here at the beginning of your tales.\" )\n",
    "# ask for class\n",
    "# give class advice using name and class\n",
    "# print character output\n"
   ]
  }
 ],
 "metadata": {
  "kernelspec": {
   "display_name": "Python 3",
   "language": "python",
   "name": "python3"
  },
  "language_info": {
   "codemirror_mode": {
    "name": "ipython",
    "version": 3
   },
   "file_extension": ".py",
   "mimetype": "text/x-python",
   "name": "python",
   "nbconvert_exporter": "python",
   "pygments_lexer": "ipython3",
   "version": "3.7.9"
  }
 },
 "nbformat": 4,
 "nbformat_minor": 5
}
